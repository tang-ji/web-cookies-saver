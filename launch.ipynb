{
 "cells": [
  {
   "cell_type": "markdown",
   "metadata": {},
   "source": [
    "## Setting cookies"
   ]
  },
  {
   "cell_type": "code",
   "execution_count": null,
   "metadata": {},
   "outputs": [],
   "source": [
    "import requests, subprocess, json\n",
    "\n",
    "ps = subprocess.Popen(['node','cookies_generation.js'], stdin=subprocess.PIPE, stdout=subprocess.PIPE)\n",
    "req = requests.get(\"http://0.0.0.0:8889/?url={}\".format(link))"
   ]
  },
  {
   "cell_type": "markdown",
   "metadata": {},
   "source": [
    "## Loading cookies"
   ]
  },
  {
   "cell_type": "code",
   "execution_count": null,
   "metadata": {},
   "outputs": [],
   "source": [
    "cookie_list = json.load(open(\"cookies.json\", \"r\"))\n",
    "cookie_dict = {k[\"name\"]: k[\"value\"] for k in cookie_list}\n",
    "\n",
    "res = requests.get(\"https://www.facebook.com/\", cookies=cookie_dict)"
   ]
  }
 ],
 "metadata": {
  "kernelspec": {
   "display_name": "Python 3",
   "language": "python",
   "name": "python3"
  },
  "language_info": {
   "codemirror_mode": {
    "name": "ipython",
    "version": 3
   },
   "file_extension": ".py",
   "mimetype": "text/x-python",
   "name": "python",
   "nbconvert_exporter": "python",
   "pygments_lexer": "ipython3",
   "version": "3.7.7"
  }
 },
 "nbformat": 4,
 "nbformat_minor": 4
}
